{
 "cells": [
  {
   "cell_type": "markdown",
   "metadata": {},
   "source": [
    "# ChatBot for Bank\n",
    "\n",
    "- model based on NLP and Machine Learning\n",
    "- using support vector machine as model\n",
    "- using banking frequently asked question for chatbot dataset"
   ]
  },
  {
   "cell_type": "markdown",
   "metadata": {},
   "source": [
    "## Importing the Library"
   ]
  },
  {
   "cell_type": "code",
   "execution_count": 1,
   "metadata": {},
   "outputs": [],
   "source": [
    "import pandas as pd\n",
    "import numpy as np\n",
    "import pickle\n",
    "import operator\n",
    "import random"
   ]
  },
  {
   "cell_type": "markdown",
   "metadata": {},
   "source": [
    "### Importing the dataset"
   ]
  },
  {
   "cell_type": "code",
   "execution_count": 2,
   "metadata": {
    "scrolled": true
   },
   "outputs": [],
   "source": [
    "data = pd.read_csv('C:\\\\Users\\\\SAMEER\\\\Downloads\\\\banking-faq-bot-master\\\\BankFAQs.csv',error_bad_lines= False)\n",
    "questions = data['Question'].values"
   ]
  },
  {
   "cell_type": "code",
   "execution_count": 3,
   "metadata": {},
   "outputs": [
    {
     "data": {
      "text/html": [
       "<div>\n",
       "<style scoped>\n",
       "    .dataframe tbody tr th:only-of-type {\n",
       "        vertical-align: middle;\n",
       "    }\n",
       "\n",
       "    .dataframe tbody tr th {\n",
       "        vertical-align: top;\n",
       "    }\n",
       "\n",
       "    .dataframe thead th {\n",
       "        text-align: right;\n",
       "    }\n",
       "</style>\n",
       "<table border=\"1\" class=\"dataframe\">\n",
       "  <thead>\n",
       "    <tr style=\"text-align: right;\">\n",
       "      <th></th>\n",
       "      <th>Question</th>\n",
       "      <th>Answer</th>\n",
       "      <th>Class</th>\n",
       "    </tr>\n",
       "  </thead>\n",
       "  <tbody>\n",
       "    <tr>\n",
       "      <th>0</th>\n",
       "      <td>Do I need to enter ‘#’ after keying in my Card...</td>\n",
       "      <td>Please listen to the recorded message and foll...</td>\n",
       "      <td>security</td>\n",
       "    </tr>\n",
       "    <tr>\n",
       "      <th>1</th>\n",
       "      <td>What details are required when I want to perfo...</td>\n",
       "      <td>To perform a secure IVR transaction, you will ...</td>\n",
       "      <td>security</td>\n",
       "    </tr>\n",
       "    <tr>\n",
       "      <th>2</th>\n",
       "      <td>How should I get the IVR Password  if I hold a...</td>\n",
       "      <td>An IVR password can be requested only from the...</td>\n",
       "      <td>security</td>\n",
       "    </tr>\n",
       "    <tr>\n",
       "      <th>3</th>\n",
       "      <td>How do I register my Mobile number for IVR Pas...</td>\n",
       "      <td>Please call our Customer Service Centre and en...</td>\n",
       "      <td>security</td>\n",
       "    </tr>\n",
       "    <tr>\n",
       "      <th>4</th>\n",
       "      <td>How can I obtain an IVR Password</td>\n",
       "      <td>By Sending SMS request: Send an SMS 'PWD&lt;space...</td>\n",
       "      <td>security</td>\n",
       "    </tr>\n",
       "  </tbody>\n",
       "</table>\n",
       "</div>"
      ],
      "text/plain": [
       "                                            Question  \\\n",
       "0  Do I need to enter ‘#’ after keying in my Card...   \n",
       "1  What details are required when I want to perfo...   \n",
       "2  How should I get the IVR Password  if I hold a...   \n",
       "3  How do I register my Mobile number for IVR Pas...   \n",
       "4                  How can I obtain an IVR Password    \n",
       "\n",
       "                                              Answer     Class  \n",
       "0  Please listen to the recorded message and foll...  security  \n",
       "1  To perform a secure IVR transaction, you will ...  security  \n",
       "2  An IVR password can be requested only from the...  security  \n",
       "3  Please call our Customer Service Centre and en...  security  \n",
       "4  By Sending SMS request: Send an SMS 'PWD<space...  security  "
      ]
     },
     "execution_count": 3,
     "metadata": {},
     "output_type": "execute_result"
    }
   ],
   "source": [
    "data.head()"
   ]
  },
  {
   "cell_type": "code",
   "execution_count": 4,
   "metadata": {},
   "outputs": [],
   "source": [
    "import nltk\n",
    "from nltk.stem.lancaster import LancasterStemmer"
   ]
  },
  {
   "cell_type": "markdown",
   "metadata": {},
   "source": [
    "### stemming is the process of reducing words to their word base or root form"
   ]
  },
  {
   "cell_type": "code",
   "execution_count": 5,
   "metadata": {},
   "outputs": [],
   "source": [
    "stemmer = LancasterStemmer()\n",
    "def cleanup(sentence):\n",
    "    word_tok = nltk.word_tokenize(sentence)\n",
    "    stemmed_words = [stemmer.stem(w) for w in word_tok]\n",
    "\n",
    "    return ' '.join(stemmed_words)"
   ]
  },
  {
   "cell_type": "code",
   "execution_count": 6,
   "metadata": {},
   "outputs": [],
   "source": [
    "X = []\n",
    "for question in questions:\n",
    "    X.append(cleanup(question))"
   ]
  },
  {
   "cell_type": "code",
   "execution_count": 7,
   "metadata": {},
   "outputs": [
    {
     "data": {
      "text/plain": [
       "['do i nee to ent ‘ # ’ aft key in my card number/ card expiry date/ cvv numb',\n",
       " 'what detail ar requir when i want to perform a sec ivr transact',\n",
       " 'how should i get the ivr password if i hold an add-on card',\n",
       " 'how do i reg my mobl numb for ivr password',\n",
       " 'how can i obtain an ivr password']"
      ]
     },
     "execution_count": 7,
     "metadata": {},
     "output_type": "execute_result"
    }
   ],
   "source": [
    "X[:5]"
   ]
  },
  {
   "cell_type": "markdown",
   "metadata": {},
   "source": [
    "## using Tfidf from sklearn\n",
    "\n",
    "-  TFIDF, short for term frequency–inverse document frequency, is a numerical statistic that is intended to reflect how     important a word is to a document in a collection or corpus."
   ]
  },
  {
   "cell_type": "code",
   "execution_count": 8,
   "metadata": {},
   "outputs": [
    {
     "data": {
      "text/plain": [
       "TfidfVectorizer(analyzer='word', binary=False, decode_error='strict',\n",
       "        dtype=<class 'numpy.int64'>, encoding='utf-8', input='content',\n",
       "        lowercase=True, max_df=1.0, max_features=None, min_df=1,\n",
       "        ngram_range=(1, 1), norm='l2', preprocessor=None, smooth_idf=True,\n",
       "        stop_words='english', strip_accents=None, sublinear_tf=False,\n",
       "        token_pattern='(?u)\\\\b\\\\w\\\\w+\\\\b', tokenizer=None, use_idf=True,\n",
       "        vocabulary=None)"
      ]
     },
     "execution_count": 8,
     "metadata": {},
     "output_type": "execute_result"
    }
   ],
   "source": [
    "from sklearn.feature_extraction.text import TfidfVectorizer\n",
    "tfidf = TfidfVectorizer(min_df=1, stop_words='english')\n",
    "tfidf.fit(X)"
   ]
  },
  {
   "cell_type": "markdown",
   "metadata": {},
   "source": [
    "### Using label encoder for converting the word to code"
   ]
  },
  {
   "cell_type": "code",
   "execution_count": 9,
   "metadata": {},
   "outputs": [
    {
     "data": {
      "text/plain": [
       "LabelEncoder()"
      ]
     },
     "execution_count": 9,
     "metadata": {},
     "output_type": "execute_result"
    }
   ],
   "source": [
    "from sklearn.preprocessing import LabelEncoder\n",
    "encoder = LabelEncoder()\n",
    "encoder.fit(data['Class'])"
   ]
  },
  {
   "cell_type": "code",
   "execution_count": 10,
   "metadata": {},
   "outputs": [],
   "source": [
    "X = tfidf.transform(X)\n",
    "Y = encoder.transform(data['Class'])"
   ]
  },
  {
   "cell_type": "markdown",
   "metadata": {},
   "source": [
    "## Spliting the dataset"
   ]
  },
  {
   "cell_type": "code",
   "execution_count": 11,
   "metadata": {},
   "outputs": [],
   "source": [
    "from sklearn.model_selection import train_test_split\n",
    "train_x, test_x, train_y, test_y = train_test_split(X, Y, test_size=.25, random_state=0)"
   ]
  },
  {
   "cell_type": "markdown",
   "metadata": {},
   "source": [
    "## Applying the SVM model"
   ]
  },
  {
   "cell_type": "code",
   "execution_count": 12,
   "metadata": {},
   "outputs": [
    {
     "data": {
      "text/plain": [
       "SVC(C=1.0, cache_size=200, class_weight=None, coef0=0.0,\n",
       "  decision_function_shape='ovr', degree=3, gamma='auto', kernel='linear',\n",
       "  max_iter=-1, probability=False, random_state=None, shrinking=True,\n",
       "  tol=0.001, verbose=False)"
      ]
     },
     "execution_count": 12,
     "metadata": {},
     "output_type": "execute_result"
    }
   ],
   "source": [
    "from sklearn.svm import SVC\n",
    "model = SVC(kernel='linear')\n",
    "model.fit(train_x, train_y)"
   ]
  },
  {
   "cell_type": "code",
   "execution_count": 13,
   "metadata": {},
   "outputs": [
    {
     "name": "stdout",
     "output_type": "stream",
     "text": [
      "SVC:  0.9410430839002267\n"
     ]
    }
   ],
   "source": [
    "print(\"SVC: \", model.score(test_x, test_y))"
   ]
  },
  {
   "cell_type": "markdown",
   "metadata": {},
   "source": [
    "## Finding the top 5 question related to user typed question"
   ]
  },
  {
   "cell_type": "code",
   "execution_count": 14,
   "metadata": {},
   "outputs": [],
   "source": [
    "def get_max5(arr):\n",
    "    ixarr = []\n",
    "    for ix, el in enumerate(arr):\n",
    "        ixarr.append((el, ix))\n",
    "    ixarr.sort()\n",
    "\n",
    "    ixs = []\n",
    "    for i in ixarr[-5:]:\n",
    "        ixs.append(i[1])\n",
    "\n",
    "    return ixs[::-1]"
   ]
  },
  {
   "cell_type": "markdown",
   "metadata": {},
   "source": [
    "## Main function to process our chat"
   ]
  },
  {
   "cell_type": "code",
   "execution_count": 15,
   "metadata": {},
   "outputs": [],
   "source": [
    "from sklearn.metrics.pairwise import cosine_similarity\n",
    "def chat():\n",
    "    cnt = 0\n",
    "    TOP5 = False\n",
    "    print(\"PRESS Q to QUIT\")\n",
    "    print(\"Bot: Hi, Welcome to our bank! How may help you???\")\n",
    "    while True:\n",
    "        usr = input(\"You: \")\n",
    "\n",
    "        if usr.lower() == 'yes':\n",
    "            print(\"Bot: Yes!\")\n",
    "            continue\n",
    "\n",
    "        if usr.lower() == 'no':\n",
    "            print(\"Bot: No?\")\n",
    "            continue\n",
    "            \n",
    "        if usr == 'Q':\n",
    "            print(\"Bot: Thank You!!! It was good to be of help.\")\n",
    "            break\n",
    "\n",
    "        if usr == 'TOP5':\n",
    "            TOP5 = True\n",
    "            print(\"Will display 5 most relevent results now\")\n",
    "            continue\n",
    "\n",
    "\n",
    "        t_usr = tfidf.transform([cleanup(usr.strip().lower())])\n",
    "        class_ = encoder.inverse_transform(model.predict(t_usr)[0])\n",
    "        questionset = data[data['Class']==class_]\n",
    "        \n",
    "        cos_sims = []\n",
    "        for question in questionset['Question']:\n",
    "            sims = cosine_similarity(tfidf.transform([question]), t_usr)\n",
    "            cos_sims.append(sims)\n",
    "            \n",
    "        ind = cos_sims.index(max(cos_sims))\n",
    "\n",
    "        if not TOP5:\n",
    "            print(\"Bot:\", data['Answer'][questionset.index[ind]])\n",
    "        else:\n",
    "            inds = get_max5(cos_sims)\n",
    "            for ix in inds:\n",
    "                print(\"Question: \"+data['Question'][questionset.index[ix]])\n",
    "                print(\"Answer: \"+data['Answer'][questionset.index[ix]])\n",
    "                print('-'*50)\n",
    "\n",
    "        print(\"\\n\"*2)\n",
    "        outcome = input(\"Was this answer helpful? Yes/No: \").lower().strip()\n",
    "        if outcome == 'yes':\n",
    "            cnt = 0\n",
    "        elif outcome == 'no':\n",
    "            inds = get_max5(cos_sims)\n",
    "            sugg_choice = input(\"Bot: Do you want me to suggest you questions ? Yes/No: \").lower()\n",
    "            if sugg_choice == 'yes':\n",
    "                q_cnt = 1\n",
    "                for ix in inds:\n",
    "                    print(q_cnt,\"Question: \"+data['Question'][questionset.index[ix]])\n",
    "                    print('-'*50)\n",
    "                    q_cnt += 1\n",
    "                num = int(input(\"Please enter the question number you find most relevant or, 0 for none: \"))\n",
    "                if num == 0:\n",
    "                    continue\n",
    "                else:\n",
    "                    print(\"Bot: \", data['Answer'][questionset.index[inds[num-1]]])\n"
   ]
  },
  {
   "cell_type": "code",
   "execution_count": 16,
   "metadata": {
    "scrolled": false
   },
   "outputs": [
    {
     "name": "stdout",
     "output_type": "stream",
     "text": [
      "PRESS Q to QUIT\n",
      "Bot: Hi, Welcome to our bank! How may help you???\n",
      "You: account opening\n"
     ]
    },
    {
     "name": "stderr",
     "output_type": "stream",
     "text": [
      "C:\\Users\\SAMEER\\Anaconda3\\lib\\site-packages\\sklearn\\preprocessing\\label.py:151: DeprecationWarning: The truth value of an empty array is ambiguous. Returning False, but in future this will result in an error. Use `array.size > 0` to check that an array is not empty.\n",
      "  if diff:\n"
     ]
    },
    {
     "name": "stdout",
     "output_type": "stream",
     "text": [
      "Bot: Payment outside India towards a permissible current account transaction [in accordance to the provisions of the Foreign Exchange Management (Current Account Transactions) Rules, 2000] and permissible capital account transaction [in accordance to the Foreign Exchange Management (Permissible Capital Account Transactions) Regulations, 2000]. Payment in foreign exchange towards cost of goods purchased from a 100 percent export oriented unit or a unit in (a) Export Processing Zone or (b) Software Technology Park or (c) Electronic Hardware Technology Park. Payment of customs duty in accordance with the provisions of the Foreign Trade Policy of the Central Government for the time being in force. Trade related loans/advances, extended by an exporter holding such account to his importer customer outside India, subject to compliance with the Foreign Exchange Management (Borrowing and Lending in Foreign Exchange) Regulations, 2000. Payment in foreign exchange to a person resident in India for supply of goods/services including payments for airfare and hotel expenditure. View more\n",
      "\n",
      "\n",
      "\n",
      "Was this answer helpful? Yes/No: no\n",
      "Bot: Do you want me to suggest you questions ? Yes/No: yes\n",
      "1 Question: What are the documents required to open a  Savings Account\n",
      "--------------------------------------------------\n",
      "2 Question: Can NetBanking facility (financial rights) be enjoyed by  authorized signatories in the Institutional Savings Account\n",
      "--------------------------------------------------\n",
      "3 Question: Can unregistered institutions open an Institutional Savings Account\n",
      "--------------------------------------------------\n",
      "4 Question: What is the general documentation requirement to open an Institutional Savings Account\n",
      "--------------------------------------------------\n",
      "5 Question: Why do I need a Reimbursement Account\n",
      "--------------------------------------------------\n",
      "Please enter the question number you find most relevant or, 0 for none: 1\n",
      "Bot:  To open a Savings Account you have to: Submit your identity proof and address proof along with your latest passport size photographs Submit self-attested copies and originals for verification View more\n",
      "You: how do i register my card\n"
     ]
    },
    {
     "name": "stderr",
     "output_type": "stream",
     "text": [
      "C:\\Users\\SAMEER\\Anaconda3\\lib\\site-packages\\sklearn\\preprocessing\\label.py:151: DeprecationWarning: The truth value of an empty array is ambiguous. Returning False, but in future this will result in an error. Use `array.size > 0` to check that an array is not empty.\n",
      "  if diff:\n"
     ]
    },
    {
     "name": "stdout",
     "output_type": "stream",
     "text": [
      "Bot: You have to login to NetSafe on the HDFC bank website using your login id & Verified by Visa/ MasterCard SecureCode password. Once you login to Netsafe click on reregister cards, enter your date of birth and CVV2 and post that the card will be reregistered. You can now use the card for online transaction.\n",
      "\n",
      "\n",
      "\n",
      "Was this answer helpful? Yes/No: yes\n",
      "You: repay my loan\n"
     ]
    },
    {
     "name": "stderr",
     "output_type": "stream",
     "text": [
      "C:\\Users\\SAMEER\\Anaconda3\\lib\\site-packages\\sklearn\\preprocessing\\label.py:151: DeprecationWarning: The truth value of an empty array is ambiguous. Returning False, but in future this will result in an error. Use `array.size > 0` to check that an array is not empty.\n",
      "  if diff:\n"
     ]
    },
    {
     "name": "stdout",
     "output_type": "stream",
     "text": [
      "Bot: You pay the loan in equal monthly instalments (EMIs). The loan will be paid through post-dated cheques. You can also pay through Electronic Clearing System (ECS ) or a standing instruction to debit your HDFC Bank account with the EMI amount\n",
      "\n",
      "\n",
      "\n",
      "Was this answer helpful? Yes/No: yes\n",
      "You: yes\n",
      "Bot: Yes!\n",
      "You: how much i can get the loan\n"
     ]
    },
    {
     "name": "stderr",
     "output_type": "stream",
     "text": [
      "C:\\Users\\SAMEER\\Anaconda3\\lib\\site-packages\\sklearn\\preprocessing\\label.py:151: DeprecationWarning: The truth value of an empty array is ambiguous. Returning False, but in future this will result in an error. Use `array.size > 0` to check that an array is not empty.\n",
      "  if diff:\n"
     ]
    },
    {
     "name": "stdout",
     "output_type": "stream",
     "text": [
      "Bot: You can repay your loan over a period of 12 to 48 months\n",
      "\n",
      "\n",
      "\n",
      "Was this answer helpful? Yes/No: no\n",
      "Bot: Do you want me to suggest you questions ? Yes/No: yes\n",
      "1 Question: What is the maximum loan amount I can take on a Tractor Loan\n",
      "--------------------------------------------------\n",
      "2 Question: Who is eligible for a tractor loan\n",
      "--------------------------------------------------\n",
      "3 Question: Is part-prepayment of a Personal Loan allowed\n",
      "--------------------------------------------------\n",
      "4 Question: What are the loan tenure options for Professionals Loan\n",
      "--------------------------------------------------\n",
      "5 Question: Are there any additional charges for loan Prepayment\n",
      "--------------------------------------------------\n",
      "Please enter the question number you find most relevant or, 0 for none: 1\n",
      "Bot:  You can borrow up to 90%, subject to credit underwriting standards of the bank.\n",
      "You: guarantor\n"
     ]
    },
    {
     "name": "stderr",
     "output_type": "stream",
     "text": [
      "C:\\Users\\SAMEER\\Anaconda3\\lib\\site-packages\\sklearn\\preprocessing\\label.py:151: DeprecationWarning: The truth value of an empty array is ambiguous. Returning False, but in future this will result in an error. Use `array.size > 0` to check that an array is not empty.\n",
      "  if diff:\n"
     ]
    },
    {
     "name": "stdout",
     "output_type": "stream",
     "text": [
      "Bot: To obtain the loan, there is absolutely no need to provide any security or collateral.\n",
      "\n",
      "\n",
      "\n",
      "Was this answer helpful? Yes/No: yes\n",
      "You: what is neft\n"
     ]
    },
    {
     "name": "stderr",
     "output_type": "stream",
     "text": [
      "C:\\Users\\SAMEER\\Anaconda3\\lib\\site-packages\\sklearn\\preprocessing\\label.py:151: DeprecationWarning: The truth value of an empty array is ambiguous. Returning False, but in future this will result in an error. Use `array.size > 0` to check that an array is not empty.\n",
      "  if diff:\n"
     ]
    },
    {
     "name": "stdout",
     "output_type": "stream",
     "text": [
      "Bot: The National Electronic Funds Transfer (NEFT) system is a nation-wide funds transfer system to facilitate transfer of funds from any bank branch to any other bank branch.\n",
      "\n",
      "\n",
      "\n",
      "Was this answer helpful? Yes/No: yes\n",
      "You: yes\n",
      "Bot: Yes!\n",
      "You: when do i start paying my emi\n"
     ]
    },
    {
     "name": "stderr",
     "output_type": "stream",
     "text": [
      "C:\\Users\\SAMEER\\Anaconda3\\lib\\site-packages\\sklearn\\preprocessing\\label.py:151: DeprecationWarning: The truth value of an empty array is ambiguous. Returning False, but in future this will result in an error. Use `array.size > 0` to check that an array is not empty.\n",
      "  if diff:\n"
     ]
    },
    {
     "name": "stdout",
     "output_type": "stream",
     "text": [
      "Bot: In case you wish to foreclose your Loan Against Property, the foreclosure charges are applicable on the outstanding principal or Outstanding Limit as the case may be.(Pre-payment is allowed only after 6 months from the date of loan disbursement).\n",
      "\n",
      "\n",
      "\n",
      "Was this answer helpful? Yes/No: no\n",
      "Bot: Do you want me to suggest you questions ? Yes/No: yes\n",
      "1 Question: What are the charges I need to pay to foreclose my Loans Against Rental Receivable\n",
      "--------------------------------------------------\n",
      "2 Question: What are the charges I need to pay to foreclose my loan\n",
      "--------------------------------------------------\n",
      "3 Question: When do I start paying my EMI\n",
      "--------------------------------------------------\n",
      "4 Question: Do I have the option to pre-pay the entire loan amount\n",
      "--------------------------------------------------\n",
      "5 Question: Can I pre-pay the entire loan amount\n",
      "--------------------------------------------------\n",
      "Please enter the question number you find most relevant or, 0 for none: 3\n",
      "Bot:  Credila’s unique education loan offers the flexibility of paying only simple interest (PEMI) during the course period and principle plus interest (EMI) after the completion of studies and grace period.\n",
      "You: Q\n",
      "Bot: Thank You!!! It was good to be of help.\n"
     ]
    }
   ],
   "source": [
    "chat()"
   ]
  },
  {
   "cell_type": "markdown",
   "metadata": {},
   "source": [
    "## Thank you"
   ]
  }
 ],
 "metadata": {
  "kernelspec": {
   "display_name": "Python 3",
   "language": "python",
   "name": "python3"
  },
  "language_info": {
   "codemirror_mode": {
    "name": "ipython",
    "version": 3
   },
   "file_extension": ".py",
   "mimetype": "text/x-python",
   "name": "python",
   "nbconvert_exporter": "python",
   "pygments_lexer": "ipython3",
   "version": "3.6.5"
  }
 },
 "nbformat": 4,
 "nbformat_minor": 2
}
